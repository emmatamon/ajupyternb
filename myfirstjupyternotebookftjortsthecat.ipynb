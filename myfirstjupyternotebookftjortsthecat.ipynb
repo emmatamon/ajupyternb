{
 "cells": [
  {
   "cell_type": "markdown",
   "id": "3d7db2f9",
   "metadata": {},
   "source": [
    "# My Jupyter Notebook on IBM Watson Studio"
   ]
  },
  {
   "cell_type": "markdown",
   "id": "ab9334b4",
   "metadata": {},
   "source": [
    "**Emma Tamez Montero**\n",
    "Data Analyst"
   ]
  },
  {
   "cell_type": "markdown",
   "id": "08d7786e",
   "metadata": {},
   "source": [
    "*I am interested in data science because of my background in urban planning and interest in environmental science.\n",
    "Using data to understand the space around us and make adequate decisions and policies is necessary in rapidly developing settlements.*"
   ]
  },
  {
   "cell_type": "markdown",
   "id": "f5f58138",
   "metadata": {},
   "source": [
    "### The code in the following cell multiplies 5 times 5"
   ]
  },
  {
   "cell_type": "code",
   "execution_count": 2,
   "id": "d4b1057d",
   "metadata": {},
   "outputs": [
    {
     "data": {
      "text/plain": [
       "25"
      ]
     },
     "execution_count": 2,
     "metadata": {},
     "output_type": "execute_result"
    }
   ],
   "source": [
    "5*5"
   ]
  },
  {
   "cell_type": "markdown",
   "id": "75f64455",
   "metadata": {},
   "source": [
    "A non comprehensive bulleted list of important ~~data~~ cats:\n",
    "- jorts [wikipedia](https://en.wikipedia.org/wiki/Jorts_(cat))\n",
    "![an orange tabby cat looking at the camera](https://upload.wikimedia.org/wikipedia/en/0/06/Jorts_the_Cat.jpg)\n",
    "- every other cat"
   ]
  },
  {
   "cell_type": "markdown",
   "id": "590c253d",
   "metadata": {},
   "source": []
  }
 ],
 "metadata": {
  "kernelspec": {
   "display_name": "Python 3 (ipykernel)",
   "language": "python",
   "name": "python3"
  },
  "language_info": {
   "codemirror_mode": {
    "name": "ipython",
    "version": 3
   },
   "file_extension": ".py",
   "mimetype": "text/x-python",
   "name": "python",
   "nbconvert_exporter": "python",
   "pygments_lexer": "ipython3",
   "version": "3.9.12"
  }
 },
 "nbformat": 4,
 "nbformat_minor": 5
}
